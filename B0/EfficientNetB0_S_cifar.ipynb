{
 "cells": [
  {
   "cell_type": "code",
   "execution_count": 1,
   "metadata": {
    "colab": {
     "base_uri": "https://localhost:8080/"
    },
    "id": "44YGmOoh2ZHm",
    "outputId": "224c2160-2aa5-4ce7-f00a-3bfafc68015f"
   },
   "outputs": [],
   "source": [
    "#from google.colab import drive\n",
    "#drive.mount('/content/drive')"
   ]
  },
  {
   "cell_type": "code",
   "execution_count": 2,
   "metadata": {
    "id": "FeyUIuPDiHXk"
   },
   "outputs": [],
   "source": [
    "import warnings\n",
    "warnings.filterwarnings(\"ignore\")"
   ]
  },
  {
   "cell_type": "code",
   "execution_count": 3,
   "metadata": {
    "colab": {
     "base_uri": "https://localhost:8080/"
    },
    "id": "jhM5_a48ioPD",
    "outputId": "88328602-b18d-4340-a113-df0c22fa3e02"
   },
   "outputs": [
    {
     "name": "stdout",
     "output_type": "stream",
     "text": [
      "Defaulting to user installation because normal site-packages is not writeable\n",
      "Collecting git+https://github.com/qubvel/efficientnet\n",
      "  Cloning https://github.com/qubvel/efficientnet to /tmp/pip-req-build-gr6jreue\n",
      "Requirement already satisfied: scikit-image in /home/sd2001/.local/lib/python3.8/site-packages (from efficientnet==1.1.1) (0.17.2)\n",
      "Collecting keras_applications<=1.0.8,>=1.0.7\n",
      "  Using cached Keras_Applications-1.0.8-py3-none-any.whl (50 kB)\n",
      "Requirement already satisfied: h5py in /home/sd2001/.local/lib/python3.8/site-packages (from keras_applications<=1.0.8,>=1.0.7->efficientnet==1.1.1) (2.10.0)\n",
      "Requirement already satisfied: numpy>=1.9.1 in /home/sd2001/.local/lib/python3.8/site-packages (from keras_applications<=1.0.8,>=1.0.7->efficientnet==1.1.1) (1.19.4)\n",
      "Requirement already satisfied: numpy>=1.9.1 in /home/sd2001/.local/lib/python3.8/site-packages (from keras_applications<=1.0.8,>=1.0.7->efficientnet==1.1.1) (1.19.4)\n",
      "Requirement already satisfied: six in /usr/lib/python3/dist-packages (from h5py->keras_applications<=1.0.8,>=1.0.7->efficientnet==1.1.1) (1.14.0)\n",
      "Requirement already satisfied: numpy>=1.9.1 in /home/sd2001/.local/lib/python3.8/site-packages (from keras_applications<=1.0.8,>=1.0.7->efficientnet==1.1.1) (1.19.4)\n",
      "Requirement already satisfied: PyWavelets>=1.1.1 in /home/sd2001/.local/lib/python3.8/site-packages (from scikit-image->efficientnet==1.1.1) (1.1.1)\n",
      "Requirement already satisfied: imageio>=2.3.0 in /home/sd2001/.local/lib/python3.8/site-packages (from scikit-image->efficientnet==1.1.1) (2.9.0)\n",
      "Requirement already satisfied: networkx>=2.0 in /home/sd2001/.local/lib/python3.8/site-packages (from scikit-image->efficientnet==1.1.1) (2.5)\n",
      "Requirement already satisfied: pillow!=7.1.0,!=7.1.1,>=4.3.0 in /usr/lib/python3/dist-packages (from scikit-image->efficientnet==1.1.1) (7.0.0)\n",
      "Requirement already satisfied: scipy>=1.0.1 in /home/sd2001/.local/lib/python3.8/site-packages (from scikit-image->efficientnet==1.1.1) (1.4.1)\n",
      "Requirement already satisfied: tifffile>=2019.7.26 in /home/sd2001/.local/lib/python3.8/site-packages (from scikit-image->efficientnet==1.1.1) (2020.10.1)\n",
      "Requirement already satisfied: matplotlib!=3.0.0,>=2.0.0 in /home/sd2001/.local/lib/python3.8/site-packages (from scikit-image->efficientnet==1.1.1) (3.3.2)\n",
      "Requirement already satisfied: pillow!=7.1.0,!=7.1.1,>=4.3.0 in /usr/lib/python3/dist-packages (from scikit-image->efficientnet==1.1.1) (7.0.0)\n",
      "Requirement already satisfied: numpy>=1.9.1 in /home/sd2001/.local/lib/python3.8/site-packages (from keras_applications<=1.0.8,>=1.0.7->efficientnet==1.1.1) (1.19.4)\n",
      "Requirement already satisfied: python-dateutil>=2.1 in /home/sd2001/.local/lib/python3.8/site-packages (from matplotlib!=3.0.0,>=2.0.0->scikit-image->efficientnet==1.1.1) (2.3)\n",
      "Requirement already satisfied: certifi>=2020.06.20 in /home/sd2001/.local/lib/python3.8/site-packages (from matplotlib!=3.0.0,>=2.0.0->scikit-image->efficientnet==1.1.1) (2020.6.20)\n",
      "Requirement already satisfied: kiwisolver>=1.0.1 in /home/sd2001/.local/lib/python3.8/site-packages (from matplotlib!=3.0.0,>=2.0.0->scikit-image->efficientnet==1.1.1) (1.2.0)\n",
      "Requirement already satisfied: numpy>=1.9.1 in /home/sd2001/.local/lib/python3.8/site-packages (from keras_applications<=1.0.8,>=1.0.7->efficientnet==1.1.1) (1.19.4)\n",
      "Requirement already satisfied: pillow!=7.1.0,!=7.1.1,>=4.3.0 in /usr/lib/python3/dist-packages (from scikit-image->efficientnet==1.1.1) (7.0.0)\n",
      "Requirement already satisfied: cycler>=0.10 in /home/sd2001/.local/lib/python3.8/site-packages (from matplotlib!=3.0.0,>=2.0.0->scikit-image->efficientnet==1.1.1) (0.10.0)\n",
      "Requirement already satisfied: pyparsing!=2.0.4,!=2.1.2,!=2.1.6,>=2.0.3 in /home/sd2001/.local/lib/python3.8/site-packages (from matplotlib!=3.0.0,>=2.0.0->scikit-image->efficientnet==1.1.1) (2.4.7)\n",
      "Requirement already satisfied: six in /usr/lib/python3/dist-packages (from h5py->keras_applications<=1.0.8,>=1.0.7->efficientnet==1.1.1) (1.14.0)\n",
      "Requirement already satisfied: decorator>=4.3.0 in /home/sd2001/.local/lib/python3.8/site-packages (from networkx>=2.0->scikit-image->efficientnet==1.1.1) (4.4.2)\n",
      "Requirement already satisfied: six in /usr/lib/python3/dist-packages (from h5py->keras_applications<=1.0.8,>=1.0.7->efficientnet==1.1.1) (1.14.0)\n",
      "Requirement already satisfied: numpy>=1.9.1 in /home/sd2001/.local/lib/python3.8/site-packages (from keras_applications<=1.0.8,>=1.0.7->efficientnet==1.1.1) (1.19.4)\n",
      "Requirement already satisfied: numpy>=1.9.1 in /home/sd2001/.local/lib/python3.8/site-packages (from keras_applications<=1.0.8,>=1.0.7->efficientnet==1.1.1) (1.19.4)\n",
      "Requirement already satisfied: numpy>=1.9.1 in /home/sd2001/.local/lib/python3.8/site-packages (from keras_applications<=1.0.8,>=1.0.7->efficientnet==1.1.1) (1.19.4)\n",
      "Building wheels for collected packages: efficientnet\n",
      "  Building wheel for efficientnet (setup.py) ... \u001b[?25ldone\n",
      "\u001b[?25h  Created wheel for efficientnet: filename=efficientnet-1.1.1-py3-none-any.whl size=18420 sha256=9fdec7f857bd83fb77d5df47b0048ec4e2c6a152daab3b25123f4a2c6bfa0ef5\n",
      "  Stored in directory: /tmp/pip-ephem-wheel-cache-lfkiakig/wheels/4f/5d/1a/f5568d40de3899e676981cbe16009738bab99940f320f402b5\n",
      "Successfully built efficientnet\n",
      "Installing collected packages: keras-applications, efficientnet\n",
      "Successfully installed efficientnet-1.1.1 keras-applications-1.0.8\n",
      "\u001b[33mWARNING: You are using pip version 20.3.1; however, version 21.0 is available.\n",
      "You should consider upgrading via the '/usr/bin/python3 -m pip install --upgrade pip' command.\u001b[0m\n"
     ]
    }
   ],
   "source": [
    "!pip install -U git+https://github.com/qubvel/efficientnet"
   ]
  },
  {
   "cell_type": "code",
   "execution_count": 6,
   "metadata": {
    "id": "gFXENdU7igXU"
   },
   "outputs": [],
   "source": [
    "import keras\n",
    "from keras.datasets import cifar10\n",
    "from keras.models import Model\n",
    "from keras.layers import Dense, Dropout, Activation, BatchNormalization, Flatten\n",
    "from keras.callbacks import ModelCheckpoint, ReduceLROnPlateau\n",
    "from keras.optimizers import Adam, SGD\n",
    "import efficientnet.keras as effnet"
   ]
  },
  {
   "cell_type": "code",
   "execution_count": 7,
   "metadata": {
    "colab": {
     "base_uri": "https://localhost:8080/"
    },
    "id": "0K0WxNa3ilXh",
    "outputId": "04fea82b-86fd-445a-9af8-b6465153b85c"
   },
   "outputs": [
    {
     "name": "stdout",
     "output_type": "stream",
     "text": [
      "Downloading data from https://www.cs.toronto.edu/~kriz/cifar-10-python.tar.gz\n",
      "170500096/170498071 [==============================] - 922s 5us/step\n",
      "x_train shape: (50000, 32, 32, 3)\n",
      "50000 train samples\n",
      "10000 test samples\n"
     ]
    }
   ],
   "source": [
    "# CIFAR10\n",
    "\n",
    "(x_train, y_train), (x_test, y_test) = cifar10.load_data()\n",
    "print('x_train shape:', x_train.shape)\n",
    "print(x_train.shape[0], 'train samples')\n",
    "print(x_test.shape[0], 'test samples')\n",
    "\n",
    "# Converting class vectors to binary class matrices\n",
    "num_classes = 10\n",
    "y_train = keras.utils.to_categorical(y_train, num_classes)\n",
    "y_test = keras.utils.to_categorical(y_test, num_classes)\n",
    "\n",
    "x_train = x_train.astype('float32')\n",
    "x_test = x_test.astype('float32')\n",
    "x_train /= 255\n",
    "x_test /= 255"
   ]
  },
  {
   "cell_type": "code",
   "execution_count": 8,
   "metadata": {
    "id": "Aw96vBTCuGWH"
   },
   "outputs": [],
   "source": [
    "from keras.backend import sigmoid\n",
    "\n",
    "class SwishActivation(Activation):\n",
    "    \n",
    "    def __init__(self, activation, **kwargs):\n",
    "        super(SwishActivation, self).__init__(activation, **kwargs)\n",
    "        self.__name__ = 'swish_act'\n",
    "\n",
    "def swish_act(x, beta = 1):\n",
    "    return (x * sigmoid(beta * x))\n",
    "\n",
    "from keras.utils.generic_utils import get_custom_objects\n",
    "from keras.layers import Activation\n",
    "get_custom_objects().update({'swish_act': SwishActivation(swish_act)})"
   ]
  },
  {
   "cell_type": "code",
   "execution_count": null,
   "metadata": {
    "colab": {
     "base_uri": "https://localhost:8080/"
    },
    "id": "BgGx6GMki_Wb",
    "outputId": "eaf86af8-cc68-4fd1-d7ea-833d48b01063"
   },
   "outputs": [
    {
     "name": "stdout",
     "output_type": "stream",
     "text": [
      "Downloading data from https://github.com/Callidior/keras-applications/releases/download/efficientnet/efficientnet-b0_weights_tf_dim_ordering_tf_kernels_autoaugment_notop.h5\n",
      "  401408/16804768 [..............................] - ETA: 19:09"
     ]
    }
   ],
   "source": [
    "model = effnet.EfficientNetB0(include_top=False, input_shape=(32,32,3), pooling='avg', weights='imagenet')\n",
    "\n",
    "# Adding 2 fully-connected layers to B0.\n",
    "x = model.output\n",
    "\n",
    "x = BatchNormalization()(x)\n",
    "x = Dropout(0.7)(x)\n",
    "\n",
    "x = Dense(512)(x)\n",
    "x = BatchNormalization()(x)\n",
    "x = Activation(swish_act)(x)\n",
    "x = Dropout(0.5)(x)\n",
    "\n",
    "x = Dense(128)(x)\n",
    "x = BatchNormalization()(x)\n",
    "x = Activation(swish_act)(x)\n",
    "\n",
    "# Output layer\n",
    "predictions = Dense(10, activation=\"softmax\")(x)\n",
    "\n",
    "model_final = Model(inputs = model.input, outputs = predictions)\n",
    "\n",
    "model_final.summary()"
   ]
  },
  {
   "cell_type": "code",
   "execution_count": null,
   "metadata": {
    "colab": {
     "base_uri": "https://localhost:8080/"
    },
    "id": "Nq-9yczgjIqH",
    "outputId": "b8d2419f-fe00-4242-9ea8-36d436fa613e"
   },
   "outputs": [],
   "source": [
    "model_final.compile(loss='categorical_crossentropy',\n",
    "              optimizer=Adam(0.0001),\n",
    "              metrics=['accuracy'])\n",
    "\n",
    "mcp_save = ModelCheckpoint('pc_SGD_B0_30(0.0001).h5', save_best_only=True, monitor='val_accuracy')\n",
    "reduce_lr = ReduceLROnPlateau(monitor='val_accuracy', factor=0.5, patience=2, verbose=1,)\n",
    "\n",
    "#print(\"Training....\")\n",
    "m = model_final.fit(x_train, y_train,\n",
    "              batch_size=32,\n",
    "              epochs=30,\n",
    "              validation_split=0.1,\n",
    "              callbacks=[mcp_save, reduce_lr],\n",
    "              shuffle=True,\n",
    "              verbose=1)"
   ]
  },
  {
   "cell_type": "code",
   "execution_count": null,
   "metadata": {
    "id": "CtAc5A1C0mtw"
   },
   "outputs": [],
   "source": [
    "import matplotlib.pyplot as plt\n",
    "%matplotlib inline"
   ]
  },
  {
   "cell_type": "code",
   "execution_count": null,
   "metadata": {
    "colab": {
     "base_uri": "https://localhost:8080/",
     "height": 573
    },
    "id": "cfBf5x8u0pZ8",
    "outputId": "fd488d55-b1bb-41e8-ffd9-77e699452c9f"
   },
   "outputs": [],
   "source": [
    "plt.plot(m.history['accuracy'])\n",
    "plt.plot(m.history['val_accuracy'])\n",
    "plt.title('model accuracy')\n",
    "plt.ylabel('accuracy')\n",
    "plt.xlabel('epoch')\n",
    "plt.legend(['train', 'val'], loc='upper left')\n",
    "plt.show()\n",
    "# summarize history for loss\n",
    "plt.plot(m.history['loss'])\n",
    "plt.plot(m.history['val_loss'])\n",
    "plt.title('model loss')\n",
    "plt.ylabel('loss')\n",
    "plt.xlabel('epoch')\n",
    "plt.legend(['train', 'test'], loc='upper left')\n",
    "plt.show()"
   ]
  },
  {
   "cell_type": "code",
   "execution_count": null,
   "metadata": {
    "colab": {
     "base_uri": "https://localhost:8080/"
    },
    "id": "PAnBYesI0shL",
    "outputId": "673a8f49-eee1-4695-caa8-2c2fde4f63c2"
   },
   "outputs": [],
   "source": [
    "_, acc = model_final.evaluate(x_test, y_test)\n",
    "print(\"Test Accuracy: {}%\".format(acc*100))"
   ]
  },
  {
   "cell_type": "code",
   "execution_count": null,
   "metadata": {
    "colab": {
     "base_uri": "https://localhost:8080/",
     "height": 311
    },
    "id": "13VJsuzQ0t-u",
    "outputId": "cfd500a3-cd64-4ca8-ab80-6952e7d14901"
   },
   "outputs": [],
   "source": [
    "import seaborn as sns\n",
    "from sklearn.metrics import confusion_matrix\n",
    "\n",
    "test_pred = model_final.predict(x_test)\n",
    "import numpy as np\n",
    "categories = ['airplane',\n",
    " 'automobile',\n",
    " 'bird',\n",
    " 'cat',\n",
    " 'deer',\n",
    " 'dog',\n",
    " 'frog',\n",
    " 'horse',\n",
    " 'ship',\n",
    " 'truck']\n",
    "ax = sns.heatmap(confusion_matrix(np.argmax(y_test, axis=1),np.argmax(test_pred, axis=1)), cmap=\"binary\", annot=True, fmt=\"d\")\n",
    "ax.xaxis.set_ticklabels(categories,rotation=90)\n",
    "ax.yaxis.set_ticklabels(categories,rotation=360);"
   ]
  },
  {
   "cell_type": "code",
   "execution_count": null,
   "metadata": {
    "id": "84D_zQ4j2oJt"
   },
   "outputs": [],
   "source": []
  }
 ],
 "metadata": {
  "accelerator": "GPU",
  "colab": {
   "collapsed_sections": [],
   "name": "EfficientNetB0_S_cifar.ipynb",
   "provenance": []
  },
  "kernelspec": {
   "display_name": "Python 3",
   "language": "python",
   "name": "python3"
  },
  "language_info": {
   "codemirror_mode": {
    "name": "ipython",
    "version": 3
   },
   "file_extension": ".py",
   "mimetype": "text/x-python",
   "name": "python",
   "nbconvert_exporter": "python",
   "pygments_lexer": "ipython3",
   "version": "3.8.5"
  }
 },
 "nbformat": 4,
 "nbformat_minor": 1
}
